{
 "cells": [
  {
   "cell_type": "code",
   "execution_count": null,
   "id": "a04cf86c-6089-4ad9-8430-bbb370b5ea42",
   "metadata": {},
   "outputs": [],
   "source": [
    "!git clone https://github.com/huggingface/diffusers.git"
   ]
  },
  {
   "cell_type": "code",
   "execution_count": null,
   "id": "36ab7ffa-b9fc-45d0-adf2-99c2f65f6831",
   "metadata": {
    "scrolled": true
   },
   "outputs": [],
   "source": [
    "!pip install huggingface_hub transformers datasets accelerate sentencepiece einops protobuf matplotlib"
   ]
  },
  {
   "cell_type": "code",
   "execution_count": null,
   "id": "24fdb8e7-c968-419f-8844-425810a0d7df",
   "metadata": {
    "scrolled": true
   },
   "outputs": [],
   "source": [
    "!pip install -U ./diffusers"
   ]
  },
  {
   "cell_type": "code",
   "execution_count": null,
   "id": "1e83de97-2eff-477f-a187-d38478a3e5a1",
   "metadata": {},
   "outputs": [],
   "source": [
    "from huggingface_hub import notebook_login"
   ]
  },
  {
   "cell_type": "code",
   "execution_count": null,
   "id": "6287b9a8-9d6c-4ef4-ae87-564954220c78",
   "metadata": {},
   "outputs": [],
   "source": [
    "notebook_login()"
   ]
  },
  {
   "cell_type": "code",
   "execution_count": null,
   "id": "1291044e-004e-4a60-a269-f6b7c80ae14d",
   "metadata": {},
   "outputs": [],
   "source": [
    "test_prompts_expt = [\n",
    "    \"A charismatic speaker is captured mid-speech. He has short, tousled brown hair that’s slightly messy on top. He has a round circle face, clean shaven, adorned with rounded rectangular-framed glasses with dark rims, is animated as he gestures with his left hand. He is holding a black microphone in his right hand, speaking passionately. The man is wearing a light grey sweater over a white t-shirt. He’s also wearing a simple black lanyard hanging around his neck. The lanyard badge has the text “Anakin AI”. Behind him, there is a blurred background with a white banner containing logos and text (including Anakin AI), a professional conference setting.\", #Anakin AI\n",
    "    \"a red dog wearing a blue hat sits with a yellow cat wearing pink sunglasses\", #wonderflex on reddit.\n",
    "    \"A Samsung LED moniter's screen on a table displays an image of a garden with signboard mentions 'All is Well', A teddy toy placed on the table, a cat is sleeping near the teddy toy, a mushroom dish on red plate placed on the table, raining outside, a parrot sitting on the nearby window, a flex banner with text 'Enjoy the life' visible from outside of the window,\"\n",
    "    \"3d model of a green war balloon, clash of clans, fantasy game, front view, game asset, detailed, war ready, photorealistic, in a war enviroment, spring, disney style, pixar style\",\n",
    "    \"Photo of a felt puppet diorama scene of a tranquil nature scene of a secluded forest clearing with a large friendly, rounded robot is rendered in a risograph style. An owl sits on the robots shoulders and a fox at its feet. Soft washes of color, 5 color, and a light-filled palette create a sense of peace and serenity, inviting contemplation and the appreciation of natural beauty.\",\n",
    "    \"The Golden gate bridge\"\n",
    "]"
   ]
  },
  {
   "cell_type": "code",
   "execution_count": null,
   "id": "c0a289bf-19ce-4d51-868a-83970f4f91aa",
   "metadata": {},
   "outputs": [],
   "source": [
    "import torch\n",
    "import einops\n",
    "from utils import plot_image_grid, cosine_similarity, plot_similarity_matrix\n",
    "from custom_sd3_pipeline import StableDiffusion3Pipeline\n",
    "from custom_sd3_transformer import SD3Transformer2DModel"
   ]
  },
  {
   "cell_type": "code",
   "execution_count": null,
   "id": "66b7a886-82ba-45e3-bfab-66fb462ff2ee",
   "metadata": {},
   "outputs": [],
   "source": [
    "expt_transformer = SD3Transformer2DModel.from_pretrained(\"stabilityai/stable-diffusion-3-medium-diffusers\", torch_dtype=torch.bfloat16, subfolder=\"transformer\")"
   ]
  },
  {
   "cell_type": "code",
   "execution_count": null,
   "id": "f2f398fa-29bd-4124-9021-7433b800a2b9",
   "metadata": {
    "scrolled": true
   },
   "outputs": [],
   "source": [
    "pipe = StableDiffusion3Pipeline.from_pretrained(\n",
    "        \"stabilityai/stable-diffusion-3-medium-diffusers\",\n",
    "        transformer=expt_transformer,\n",
    "        torch_dtype=torch.bfloat16\n",
    "        )\n",
    "pipe.to(\"cuda\")"
   ]
  },
  {
   "cell_type": "code",
   "execution_count": null,
   "id": "bed3f94b-180f-44df-910b-b3596853f487",
   "metadata": {},
   "outputs": [],
   "source": [
    "def test_sd3(prompts, layer_order):\n",
    "    results = []\n",
    "    print(f\"layer_order {layer_order}\")\n",
    "    generator = torch.Generator('cpu')\n",
    "    generator.manual_seed(19943434)\n",
    "    for prompt in prompts:\n",
    "        out, _, _ = pipe(\n",
    "            prompt=prompt,\n",
    "            height=768,\n",
    "            width=1360,\n",
    "            num_inference_steps=28,\n",
    "            guidance_scale=5.0,\n",
    "            max_sequence_length=256,\n",
    "            return_dict=True,\n",
    "            layer_order=layer_order,\n",
    "            generator=generator\n",
    "        )\n",
    "        results.append((prompt, out.images[0]))\n",
    "    plot_image_grid(results, rows=len(prompts), cols=1, figsize=(25,25))\n",
    "    return results\n",
    "    "
   ]
  },
  {
   "cell_type": "markdown",
   "id": "c2f2f8fa-7d7c-4ef6-a838-018e6a01d9a7",
   "metadata": {},
   "source": [
    "## Baseline"
   ]
  },
  {
   "cell_type": "code",
   "execution_count": null,
   "id": "b5d0c8cb-fb7a-42b0-80d5-4544830a12e2",
   "metadata": {
    "scrolled": true
   },
   "outputs": [],
   "source": [
    "encoder_actns_sims = []\n",
    "actns_cos_sims = []\n",
    "results = []\n",
    "\n",
    "generator = torch.Generator('cpu')\n",
    "generator.manual_seed(19943434)\n",
    "for prompt in test_prompts_expt:\n",
    "    out, encoder_actns, actns = pipe(\n",
    "        prompt=prompt,\n",
    "        height=768,\n",
    "        width=1360,\n",
    "        num_inference_steps=28,\n",
    "        max_sequence_length=256,\n",
    "        guidance_scale=5.0,\n",
    "        return_dict=True,\n",
    "        layer_order=list(range(len(expt_transformer.transformer_blocks))),\n",
    "        generator=generator,\n",
    "        track_activations=True\n",
    "    )\n",
    "    results.append((prompt, out.images[0]))\n",
    "    encoder_actns_sims.append(cosine_similarity(encoder_actns))\n",
    "    actns_cos_sims.append(cosine_similarity(actns))\n",
    "    del encoder_actns\n",
    "    del actns\n",
    "\n",
    "encoder_actns_sims = torch.stack(encoder_actns_sims, dim=0)\n",
    "actns_cos_sims = torch.stack(actns_cos_sims, dim=0)"
   ]
  },
  {
   "cell_type": "code",
   "execution_count": null,
   "id": "0cc82ddd-9669-48b9-bf66-5798a020bb87",
   "metadata": {},
   "outputs": [],
   "source": [
    "plot_similarity_matrix(torch.mean(encoder_actns_sims,dim=0))"
   ]
  },
  {
   "cell_type": "code",
   "execution_count": null,
   "id": "23f95e31-6329-4068-9569-552660d24fd3",
   "metadata": {},
   "outputs": [],
   "source": [
    "plot_similarity_matrix(torch.mean(actns_cos_sims,dim=0))"
   ]
  },
  {
   "cell_type": "code",
   "execution_count": null,
   "id": "351069f5-492a-4f43-b7ea-90f708269ae1",
   "metadata": {
    "scrolled": true
   },
   "outputs": [],
   "source": [
    "plot_image_grid(results,rows=5,cols=1,figsize=(30,25))"
   ]
  },
  {
   "cell_type": "code",
   "execution_count": null,
   "id": "d2d31fec-6743-4416-aa4b-e3c80e31be2e",
   "metadata": {},
   "outputs": [],
   "source": [
    "# Middle layers seem to be from 5 to 20"
   ]
  },
  {
   "cell_type": "code",
   "execution_count": null,
   "id": "70492a93-5c63-4bf9-8aaf-bce832cd29c3",
   "metadata": {},
   "outputs": [],
   "source": [
    "N = len(expt_transformer.transformer_blocks)"
   ]
  },
  {
   "cell_type": "markdown",
   "id": "a3f19c5a-3ac9-4b9d-a63c-24288b51cc59",
   "metadata": {},
   "source": [
    "## Skipping"
   ]
  },
  {
   "cell_type": "code",
   "execution_count": null,
   "id": "7b248e3e-a620-4ddf-b2f4-1db5e93c5a3b",
   "metadata": {},
   "outputs": [],
   "source": [
    "layer_order = list(range(20)) + list(range(22,N))\n",
    "\n",
    "results_skip_transformer_20_21 = test_sd3(test_prompts_expt, layer_order)"
   ]
  },
  {
   "cell_type": "code",
   "execution_count": null,
   "id": "e572e17b-44a6-42ed-93f7-28e190699c26",
   "metadata": {
    "scrolled": true
   },
   "outputs": [],
   "source": [
    "layer_order = list(range(13)) + list(range(15,N))\n",
    "\n",
    "results_skip_transformer = test_sd3(test_prompts_expt, layer_order)"
   ]
  },
  {
   "cell_type": "code",
   "execution_count": null,
   "id": "5b4e88b3-3f99-404f-9023-351becc2fde8",
   "metadata": {
    "scrolled": true
   },
   "outputs": [],
   "source": [
    "layer_order = list(range(1,N))\n",
    "\n",
    "results_skip_first_transformer = test_sd3(test_prompts_expt, layer_order)"
   ]
  },
  {
   "cell_type": "markdown",
   "id": "96ee5356-b41d-4341-af5e-90ec40d1ee49",
   "metadata": {},
   "source": [
    "## Skip Repeat"
   ]
  },
  {
   "cell_type": "code",
   "execution_count": null,
   "id": "df4473dd-d53a-4a5b-a228-44d9ad820dfa",
   "metadata": {
    "scrolled": true
   },
   "outputs": [],
   "source": [
    "layer_order = list(range(14)) + [15, 15, 15, 15] + list(range(18,N))\n",
    "\n",
    "results_skip_repeat_transformer_14_17 = test_sd3(test_prompts_expt, layer_order)"
   ]
  },
  {
   "cell_type": "code",
   "execution_count": null,
   "id": "9b771a83-faeb-4aea-a258-09414ed3365a",
   "metadata": {
    "scrolled": true
   },
   "outputs": [],
   "source": [
    "layer_order = list(range(18)) + [19, 19, 19, 19] + list(range(22,N))\n",
    "\n",
    "results_skip_repeat_transformer_18_21 = test_sd3(test_prompts_expt, layer_order)"
   ]
  },
  {
   "cell_type": "markdown",
   "id": "31b0fda0-99ce-4793-8da5-b5e8bb73cb48",
   "metadata": {
    "jp-MarkdownHeadingCollapsed": true
   },
   "source": [
    "## Reverse"
   ]
  },
  {
   "cell_type": "code",
   "execution_count": null,
   "id": "e06656df-0665-4186-866c-c405775f196f",
   "metadata": {},
   "outputs": [],
   "source": [
    "layer_order = list(range(14)) + list(reversed([14, 15, 16, 17])) + list(range(18,N))\n",
    "\n",
    "results_skip_reverese_transformer_14_17 = test_sd3(test_prompts_expt, layer_order)"
   ]
  },
  {
   "cell_type": "code",
   "execution_count": null,
   "id": "01a76927-7510-43a5-ab39-289ed68600f7",
   "metadata": {
    "scrolled": true
   },
   "outputs": [],
   "source": [
    "layer_order = list(range(18)) + [21, 20, 19, 18] + list(range(22,N))\n",
    "\n",
    "results_skip_reverese_transformer = test_sd3(test_prompts_expt, layer_order)"
   ]
  },
  {
   "cell_type": "markdown",
   "id": "9e95f77f-cf91-4919-bf2f-cb0505cbf876",
   "metadata": {
    "jp-MarkdownHeadingCollapsed": true
   },
   "source": [
    "## Parallel"
   ]
  },
  {
   "cell_type": "code",
   "execution_count": null,
   "id": "c211d075-5e93-49b8-819c-ee902d97d58a",
   "metadata": {
    "scrolled": true
   },
   "outputs": [],
   "source": [
    "layer_order = list(range(10)) + [(10, 11, 12, 13)] + list(range(22,N))\n",
    "\n",
    "results_skip_parallel_transformer_10_14 = test_sd3(test_prompts_expt, layer_order)"
   ]
  },
  {
   "cell_type": "code",
   "execution_count": null,
   "id": "d137fb52-4c9b-4934-b40e-0c2526eb458c",
   "metadata": {
    "scrolled": true
   },
   "outputs": [],
   "source": [
    "layer_order = list(range(18)) + [(18, 19, 20, 21)] + list(range(22,N))\n",
    "\n",
    "results_skip_parallel_transformer = test_sd3(test_prompts_expt, layer_order)"
   ]
  },
  {
   "cell_type": "markdown",
   "id": "a32669c3-c57b-44fe-b977-cf1deb4f922e",
   "metadata": {},
   "source": [
    "## Looped-Parallel"
   ]
  },
  {
   "cell_type": "code",
   "execution_count": null,
   "id": "97747a47-2e35-4482-855e-906825273cc8",
   "metadata": {
    "scrolled": true
   },
   "outputs": [],
   "source": [
    "layer_order = list(range(10)) + [(10, 11, 12, 13)] * 4 + list(range(14,N))\n",
    "\n",
    "results_looped_parallel_transformer_10_13 = test_sd3(test_prompts_expt, layer_order)"
   ]
  },
  {
   "cell_type": "code",
   "execution_count": null,
   "id": "98caef46-a083-4fa1-8130-35c8627c9eac",
   "metadata": {
    "scrolled": true
   },
   "outputs": [],
   "source": [
    "layer_order = list(range(15)) + [(15, 16, 17, 18)] * 4 + list(range(19,N))\n",
    "\n",
    "results_looped_parallel_transformer = test_sd3(test_prompts_expt, layer_order)"
   ]
  },
  {
   "cell_type": "code",
   "execution_count": null,
   "id": "8ecf2487-1c03-450f-90c2-c8f79f78ced4",
   "metadata": {},
   "outputs": [],
   "source": [
    "results_looped_parallel_transformer #looped 15-18\n",
    "results #base"
   ]
  },
  {
   "cell_type": "code",
   "execution_count": null,
   "id": "5b37fca5-c687-4aa9-99d6-136827b156de",
   "metadata": {},
   "outputs": [],
   "source": [
    "import matplotlib.pyplot as pyplot\n",
    "import textwrap\n",
    "prompts = []\n",
    "images = []\n",
    "titles = [\n",
    "    \"Baseline\", \"Repeat transformer layers 15 for 14-17\", \"Repeat transformer layers 19 for 18-21\"\n",
    "]\n",
    "for item in zip(\n",
    "        results,\n",
    "        results_skip_repeat_transformer_14_17,\n",
    "        results_skip_repeat_transformer_18_21,\n",
    "    ):\n",
    "    prompts.append(item[0][0])\n",
    "    images.append([i[1] for i in item])\n",
    "\n",
    "num_rows = len(prompts)\n",
    "num_cols = len(images[0])\n",
    "fig, axes = pyplot.subplots(num_rows, num_cols, figsize=(30, 25), constrained_layout=True)\n",
    "\n",
    "# Plot the images in the grid\n",
    "for i, row_images in enumerate(images):\n",
    "    for j, image in enumerate(row_images):\n",
    "        axes[i, j].imshow(image)  # Display the image\n",
    "        axes[i, j].axis('off')  # Hide the axes\n",
    "        if i == 0:\n",
    "            axes[0,j].set_title(titles[j], fontsize=24)\n",
    "    # wrapped_text = \"\\n\".join(textwrap.wrap(prompts[i], width=200))\n",
    "    # # Set the row title by merging the column cells\n",
    "    # axes[i, num_cols // 2 - 1].set_title(wrapped_text, fontsize=16, pad=0)\n",
    "\n",
    "# Adjust layout\n",
    "# pyplot.show()\n",
    "pyplot.savefig('sd3_image_1.png')"
   ]
  },
  {
   "cell_type": "code",
   "execution_count": null,
   "id": "68b27081-8057-479b-956f-9025fd74e57a",
   "metadata": {},
   "outputs": [],
   "source": []
  }
 ],
 "metadata": {
  "kernelspec": {
   "display_name": "Python 3 (ipykernel)",
   "language": "python",
   "name": "python3"
  },
  "language_info": {
   "codemirror_mode": {
    "name": "ipython",
    "version": 3
   },
   "file_extension": ".py",
   "mimetype": "text/x-python",
   "name": "python",
   "nbconvert_exporter": "python",
   "pygments_lexer": "ipython3",
   "version": "3.10.12"
  }
 },
 "nbformat": 4,
 "nbformat_minor": 5
}
